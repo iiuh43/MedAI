{
 "cells": [
  {
   "cell_type": "code",
   "execution_count": 4,
   "id": "3e24188e",
   "metadata": {},
   "outputs": [],
   "source": [
    "import pandas as pd\n",
    "from urllib.parse import urlparse\n",
    "\n",
    "# State government domains mapped to full state names\n",
    "gov_domain_to_state = {\n",
    "    \"alabama.gov\": \"Alabama\", \"alaska.gov\": \"Alaska\", \"az.gov\": \"Arizona\", \"arkansas.gov\": \"Arkansas\", \"ca.gov\": \"California\",\n",
    "    \"colorado.gov\": \"Colorado\", \"ct.gov\": \"Connecticut\", \"delaware.gov\": \"Delaware\", \"myflorida.com\": \"Florida\",\n",
    "    \"georgia.gov\": \"Georgia\", \"hawaii.gov\": \"Hawaii\", \"idaho.gov\": \"Idaho\", \"illinois.gov\": \"Illinois\", \"in.gov\": \"Indiana\",\n",
    "    \"iowa.gov\": \"Iowa\", \"kansas.gov\": \"Kansas\", \"ky.gov\": \"Kentucky\", \"louisiana.gov\": \"Louisiana\", \"maine.gov\": \"Maine\",\n",
    "    \"maryland.gov\": \"Maryland\", \"mass.gov\": \"Massachusetts\", \"michigan.gov\": \"Michigan\", \"mn.gov\": \"Minnesota\",\n",
    "    \"ms.gov\": \"Mississippi\", \"mo.gov\": \"Missouri\", \"mt.gov\": \"Montana\", \"nebraska.gov\": \"Nebraska\", \"nv.gov\": \"Nevada\",\n",
    "    \"nh.gov\": \"New Hampshire\", \"nj.gov\": \"New Jersey\", \"nm.gov\": \"New Mexico\", \"ny.gov\": \"New York\", \"nc.gov\": \"North Carolina\",\n",
    "    \"nd.gov\": \"North Dakota\", \"ohio.gov\": \"Ohio\", \"oklahoma.gov\": \"Oklahoma\", \"oregon.gov\": \"Oregon\", \"pa.gov\": \"Pennsylvania\",\n",
    "    \"ri.gov\": \"Rhode Island\", \"sc.gov\": \"South Carolina\", \"sd.gov\": \"South Dakota\", \"tn.gov\": \"Tennessee\", \"texas.gov\": \"Texas\",\n",
    "    \"utah.gov\": \"Utah\", \"vermont.gov\": \"Vermont\", \"virginia.gov\": \"Virginia\", \"wa.gov\": \"Washington\", \"wv.gov\": \"West Virginia\",\n",
    "    \"wisconsin.gov\": \"Wisconsin\", \"wyoming.gov\": \"Wyoming\"\n",
    "}\n",
    "\n",
    "def classify_by_url(url):\n",
    "    netloc = urlparse(url).netloc.lower()\n",
    "    for domain, state in gov_domain_to_state.items():\n",
    "        if netloc == domain or netloc.endswith(f\".{domain}\"):\n",
    "            return state\n",
    "    return \"NA\"\n",
    "\n",
    "\n",
    "def classify_pdfs(input_csv_path, output_csv_path, link_col='URL'):\n",
    "    df = pd.read_csv(input_csv_path)\n",
    "    if link_col not in df.columns:\n",
    "        raise KeyError(f\"Column '{link_col}' not found in CSV.\")\n",
    "    \n",
    "    df['State'] = df[link_col].apply(classify_by_url)\n",
    "    output_df = df[[link_col, 'State']]\n",
    "    output_df.to_csv(output_csv_path, index=False)"
   ]
  },
  {
   "cell_type": "code",
   "execution_count": 7,
   "id": "28c8b2dd",
   "metadata": {},
   "outputs": [],
   "source": [
    "input_csv = '/Users/winnie/Documents/GitHub/MedAI/Analysis&NLP/FINAL_dataset.csv'\n",
    "output_csv = '/Users/winnie/Documents/GitHub/MedAI/Analysis&NLP/classify_by_state/state_results.csv'\n",
    "classify_pdfs(input_csv, output_csv, link_col='URL')"
   ]
  },
  {
   "cell_type": "code",
   "execution_count": null,
   "id": "b88411b0",
   "metadata": {},
   "outputs": [],
   "source": [
    "import csv\n",
    "import json\n",
    "\n",
    "def csv_to_json(csv_file_path, json_file_path):\n",
    "    # Read the CSV and add data to a dictionary\n",
    "    with open(csv_file_path, mode='r', newline='', encoding='utf-8') as csv_file:\n",
    "        reader = csv.DictReader(csv_file)\n",
    "        data = list(reader)\n",
    "\n",
    "    # Write the JSON file\n",
    "    with open(json_file_path, mode='w', encoding='utf-8') as json_file:\n",
    "        json.dump(data, json_file, indent=4)\n",
    "\n",
    "# Example usage\n",
    "csv_to_json('/Users/winnie/Documents/GitHub/MedAI/Analysis&NLP/classify_by_state/state_results.csv', '/Users/winnie/Documents/GitHub/MedAI/Analysis&NLP/classify_by_state/state_results.json')\n"
   ]
  }
 ],
 "metadata": {
  "kernelspec": {
   "display_name": "base",
   "language": "python",
   "name": "python3"
  },
  "language_info": {
   "codemirror_mode": {
    "name": "ipython",
    "version": 3
   },
   "file_extension": ".py",
   "mimetype": "text/x-python",
   "name": "python",
   "nbconvert_exporter": "python",
   "pygments_lexer": "ipython3",
   "version": "3.10.9"
  }
 },
 "nbformat": 4,
 "nbformat_minor": 5
}
