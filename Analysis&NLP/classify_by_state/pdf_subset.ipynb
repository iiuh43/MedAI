{
 "cells": [
  {
   "cell_type": "code",
   "execution_count": null,
   "id": "f232008d",
   "metadata": {},
   "outputs": [],
   "source": [
    "import pandas as pd\n",
    "\n",
    "# Load the large CSV file\n",
    "df = pd.read_csv(\"/Users/winnie/Documents/GitHub/MedAI/Analysis&NLP/raw_pdfs_cleaning/cleaned_raw_pdfs.csv\")\n",
    "\n",
    "# Randomly sample 20 rows\n",
    "sampled_df = df.sample(n=20, random_state=42)  # set random_state for reproducibility\n",
    "\n",
    "# Save the sample to a new CSV\n",
    "sampled_df.to_csv(\"/Users/winnie/Documents/GitHub/MedAI/classify_by_state/sampled_20_rows.csv\", index=False)\n"
   ]
  },
  {
   "cell_type": "code",
   "execution_count": 2,
   "id": "4255eaa3",
   "metadata": {},
   "outputs": [],
   "source": [
    "# Randomly sample 25 rows\n",
    "sampled_df = df.sample(n=25, random_state=30)  # set random_state for reproducibility\n",
    "\n",
    "# Save the sample to a new CSV\n",
    "sampled_df.to_csv(\"/Users/winnie/Documents/GitHub/MedAI/classify_by_state/sampled_25_rows.csv\", index=False)\n"
   ]
  },
  {
   "cell_type": "code",
   "execution_count": 1,
   "id": "eeea541c",
   "metadata": {},
   "outputs": [],
   "source": [
    "import pandas as pd\n",
    "\n",
    "# Load the large CSV file\n",
    "df = pd.read_csv(\"/Users/winnie/Documents/GitHub/MedAI/Analysis&NLP/raw_pdfs_cleaning/cleaned_raw_pdfs.csv\")\n",
    "\n",
    "# Randomly sample 5 rows\n",
    "sampled_df = df.sample(n=3, random_state=40)  # set random_state for reproducibility\n",
    "\n",
    "# Save the sample to a new CSV\n",
    "sampled_df.to_csv(\"/Users/winnie/Documents/GitHub/MedAI/Analysis&NLP/classify_by_state/sampled_3_rows.csv\", index=False)\n"
   ]
  },
  {
   "cell_type": "code",
   "execution_count": 2,
   "id": "248e68ba",
   "metadata": {},
   "outputs": [],
   "source": [
    "import pandas as pd\n",
    "\n",
    "# Load the large CSV file\n",
    "df = pd.read_csv(\"/Users/winnie/Documents/GitHub/MedAI/Analysis&NLP/raw_pdfs_cleaning/cleaned_raw_pdfs.csv\")\n",
    "\n",
    "# Randomly sample 200 rows\n",
    "sampled_df = df.sample(n=200, random_state=32)  # set random_state for reproducibility\n",
    "\n",
    "# Save the sample to a new CSV\n",
    "sampled_df.to_csv(\"/Users/winnie/Documents/GitHub/MedAI/Analysis&NLP/classify_by_state/sampled_200_rows.csv\", index=False)\n"
   ]
  }
 ],
 "metadata": {
  "kernelspec": {
   "display_name": "base",
   "language": "python",
   "name": "python3"
  },
  "language_info": {
   "codemirror_mode": {
    "name": "ipython",
    "version": 3
   },
   "file_extension": ".py",
   "mimetype": "text/x-python",
   "name": "python",
   "nbconvert_exporter": "python",
   "pygments_lexer": "ipython3",
   "version": "3.10.9"
  }
 },
 "nbformat": 4,
 "nbformat_minor": 5
}
