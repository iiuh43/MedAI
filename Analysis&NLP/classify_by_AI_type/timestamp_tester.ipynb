{
 "cells": [
  {
   "cell_type": "code",
   "execution_count": 1,
   "id": "c2d6ffae",
   "metadata": {},
   "outputs": [
    {
     "name": "stdout",
     "output_type": "stream",
     "text": [
      "start [the function of interest]: 2025-07-29 15:57:37\n"
     ]
    }
   ],
   "source": [
    "from timestamp import insert_timestamp\n",
    "\n",
    "insert_timestamp(\"the function of interest\")"
   ]
  }
 ],
 "metadata": {
  "kernelspec": {
   "display_name": "base",
   "language": "python",
   "name": "python3"
  },
  "language_info": {
   "codemirror_mode": {
    "name": "ipython",
    "version": 3
   },
   "file_extension": ".py",
   "mimetype": "text/x-python",
   "name": "python",
   "nbconvert_exporter": "python",
   "pygments_lexer": "ipython3",
   "version": "3.10.9"
  }
 },
 "nbformat": 4,
 "nbformat_minor": 5
}
