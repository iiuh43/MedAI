{
 "cells": [
  {
   "cell_type": "code",
   "execution_count": null,
   "id": "16be6a7d",
   "metadata": {},
   "outputs": [],
   "source": [
    "# combining the failed docs\n",
    "\n",
    "import pandas as pd\n",
    "\n",
    "# List of full paths to your CSV files\n",
    "csv_files = [\n",
    "    \"/Users/winnie/Documents/GitHub/MedAI/Analysis&NLP/classify_by_AI_type/AI_appl_failed_docs_3.csv\",\n",
    "    \"/Users/winnie/Documents/GitHub/MedAI/Analysis&NLP/classify_by_AI_type/AI_appl_failed_docs_6.csv\",\n",
    "    \"/Users/winnie/Documents/GitHub/MedAI/Analysis&NLP/classify_by_AI_type/AI_appl_failed_docs_7.csv\",\n",
    "    \"/Users/winnie/Documents/GitHub/MedAI/Analysis&NLP/classify_by_AI_type/AI_appl_failed_docs_8.csv\",\n",
    "    \"/Users/winnie/Documents/GitHub/MedAI/Analysis&NLP/classify_by_AI_type/AI_appl_failed_docs_10.csv\"\n",
    "]\n",
    "\n",
    "# Read and concatenate\n",
    "df_list = [pd.read_csv(file) for file in csv_files]\n",
    "combined_df = pd.concat(df_list, ignore_index=True)\n",
    "\n",
    "# Save to a single output file\n",
    "combined_df.to_csv(\"/Users/winnie/Documents/GitHub/MedAI/Analysis&NLP/classify_by_AI_type/AI_appl_failed_docs_combined.csv\", index=False)\n"
   ]
  },
  {
   "cell_type": "code",
   "execution_count": 3,
   "id": "9e1141d7",
   "metadata": {},
   "outputs": [],
   "source": [
    "# combining the classified results docs\n",
    "\n",
    "import pandas as pd\n",
    "\n",
    "# List of full paths to your CSV files\n",
    "csv_files = [\n",
    "    \"/Users/winnie/Documents/GitHub/MedAI/Analysis&NLP/classify_by_AI_type/AI_appl_results_1.csv\",\n",
    "    \"/Users/winnie/Documents/GitHub/MedAI/Analysis&NLP/classify_by_AI_type/AI_appl_results_2.csv\",\n",
    "    \"/Users/winnie/Documents/GitHub/MedAI/Analysis&NLP/classify_by_AI_type/AI_appl_results_3.csv\",\n",
    "    \"/Users/winnie/Documents/GitHub/MedAI/Analysis&NLP/classify_by_AI_type/AI_appl_results_4.csv\",\n",
    "    \"/Users/winnie/Documents/GitHub/MedAI/Analysis&NLP/classify_by_AI_type/AI_appl_results_5.csv\",\n",
    "    \"/Users/winnie/Documents/GitHub/MedAI/Analysis&NLP/classify_by_AI_type/AI_appl_results_6.csv\",\n",
    "    \"/Users/winnie/Documents/GitHub/MedAI/Analysis&NLP/classify_by_AI_type/AI_appl_results_7.csv\",\n",
    "    \"/Users/winnie/Documents/GitHub/MedAI/Analysis&NLP/classify_by_AI_type/AI_appl_results_8.csv\",\n",
    "    \"/Users/winnie/Documents/GitHub/MedAI/Analysis&NLP/classify_by_AI_type/AI_appl_results_9.csv\",\n",
    "    \"/Users/winnie/Documents/GitHub/MedAI/Analysis&NLP/classify_by_AI_type/AI_appl_results_10.csv\",\n",
    "    \"/Users/winnie/Documents/GitHub/MedAI/Analysis&NLP/classify_by_AI_type/AI_appl_results_11_for_prev_failed.csv\"\n",
    "]\n",
    "\n",
    "# Read and concatenate\n",
    "df_list = [pd.read_csv(file) for file in csv_files]\n",
    "combined_df = pd.concat(df_list, ignore_index=True)\n",
    "\n",
    "# Save to a single output file\n",
    "combined_df.to_csv(\"/Users/winnie/Documents/GitHub/MedAI/Analysis&NLP/classify_by_AI_type/AI_appl_results_combined.csv\", index=False)\n"
   ]
  }
 ],
 "metadata": {
  "kernelspec": {
   "display_name": "base",
   "language": "python",
   "name": "python3"
  },
  "language_info": {
   "codemirror_mode": {
    "name": "ipython",
    "version": 3
   },
   "file_extension": ".py",
   "mimetype": "text/x-python",
   "name": "python",
   "nbconvert_exporter": "python",
   "pygments_lexer": "ipython3",
   "version": "3.10.9"
  }
 },
 "nbformat": 4,
 "nbformat_minor": 5
}
