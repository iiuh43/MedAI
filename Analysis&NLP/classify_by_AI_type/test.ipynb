{
 "cells": [
  {
   "cell_type": "code",
   "execution_count": 4,
   "id": "14c9e3e8",
   "metadata": {},
   "outputs": [
    {
     "ename": "NameError",
     "evalue": "name 'pdf_to_text_file' is not defined",
     "output_type": "error",
     "traceback": [
      "\u001b[0;31m---------------------------------------------------------------------------\u001b[0m",
      "\u001b[0;31mNameError\u001b[0m                                 Traceback (most recent call last)",
      "Cell \u001b[0;32mIn[4], line 5\u001b[0m\n\u001b[1;32m      3\u001b[0m pdf_path \u001b[38;5;241m=\u001b[39m \u001b[38;5;124m\"\u001b[39m\u001b[38;5;124mAnalysis&NLP/classify_by_AI_type/jsr-17-task-002_aiforhealthandhealthcare12122017.pdf\u001b[39m\u001b[38;5;124m\"\u001b[39m\n\u001b[1;32m      4\u001b[0m output_txt_path \u001b[38;5;241m=\u001b[39m \u001b[38;5;124m\"\u001b[39m\u001b[38;5;124mAnalysis&NLP/classify_by_AI_type/jsr-17-task-002_aiforhealthandhealthcare12122017.txt\u001b[39m\u001b[38;5;124m\"\u001b[39m\n\u001b[0;32m----> 5\u001b[0m \u001b[43mpdf_to_text_file\u001b[49m(pdf_path, output_txt_path)\n\u001b[1;32m      6\u001b[0m \u001b[38;5;28;01mwith\u001b[39;00m \u001b[38;5;28mopen\u001b[39m(output_txt_path, \u001b[38;5;124m\"\u001b[39m\u001b[38;5;124mr\u001b[39m\u001b[38;5;124m\"\u001b[39m, encoding\u001b[38;5;241m=\u001b[39m\u001b[38;5;124m\"\u001b[39m\u001b[38;5;124mutf-8\u001b[39m\u001b[38;5;124m\"\u001b[39m) \u001b[38;5;28;01mas\u001b[39;00m f:\n\u001b[1;32m      7\u001b[0m     raw_text \u001b[38;5;241m=\u001b[39m f\u001b[38;5;241m.\u001b[39mread()\n",
      "\u001b[0;31mNameError\u001b[0m: name 'pdf_to_text_file' is not defined"
     ]
    }
   ],
   "source": [
    "import AI_type_embed_script as ates\n",
    "\n",
    "pdf_path = \"Analysis&NLP/classify_by_AI_type/jsr-17-task-002_aiforhealthandhealthcare12122017.pdf\"\n",
    "output_txt_path = \"Analysis&NLP/classify_by_AI_type/jsr-17-task-002_aiforhealthandhealthcare12122017.txt\"\n",
    "pdf_to_text_file(pdf_path, output_txt_path)\n",
    "with open(output_txt_path, \"r\", encoding=\"utf-8\") as f:\n",
    "    raw_text = f.read()\n",
    "clean_text = preprocess_pdf_text(raw_text)\n",
    "chunks = chunk_text(clean_text)\n",
    "chunk_embeddings = [(i, chunk, get_embedding(chunk)) for i, chunk in enumerate(chunks)]\n",
    "results = classify_with_combined_embeddings(chunk_embeddings, category_all_embeddings, threshold=0.6)\n",
    "document_scores, classified_categories = compute_document_level_similarity(results, category_all_embeddings, threshold=0.6)\n",
    "print(document_scores)\n",
    "print(classified_categories)\n"
   ]
  }
 ],
 "metadata": {
  "kernelspec": {
   "display_name": "base",
   "language": "python",
   "name": "python3"
  },
  "language_info": {
   "codemirror_mode": {
    "name": "ipython",
    "version": 3
   },
   "file_extension": ".py",
   "mimetype": "text/x-python",
   "name": "python",
   "nbconvert_exporter": "python",
   "pygments_lexer": "ipython3",
   "version": "3.10.9"
  }
 },
 "nbformat": 4,
 "nbformat_minor": 5
}
