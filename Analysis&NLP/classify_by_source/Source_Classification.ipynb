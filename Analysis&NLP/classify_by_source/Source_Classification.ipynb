{
 "cells": [
  {
   "cell_type": "code",
   "execution_count": null,
   "id": "48332b50",
   "metadata": {},
   "outputs": [],
   "source": [
    "import pandas as pd\n",
    "import requests\n",
    "from PyPDF2 import PdfReader\n",
    "from io import BytesIO\n",
    "import fitz  # PyMuPDF\n",
    "from tqdm import tqdm\n",
    "from transformers import pipeline"
   ]
  },
  {
   "cell_type": "code",
   "execution_count": 3,
   "id": "7121a512",
   "metadata": {},
   "outputs": [],
   "source": [
    "df = pd.read_csv(\"professional_only.csv\")"
   ]
  },
  {
   "cell_type": "code",
   "execution_count": 4,
   "id": "03a06dc2",
   "metadata": {},
   "outputs": [
    {
     "data": {
      "text/html": [
       "<div>\n",
       "<style scoped>\n",
       "    .dataframe tbody tr th:only-of-type {\n",
       "        vertical-align: middle;\n",
       "    }\n",
       "\n",
       "    .dataframe tbody tr th {\n",
       "        vertical-align: top;\n",
       "    }\n",
       "\n",
       "    .dataframe thead th {\n",
       "        text-align: right;\n",
       "    }\n",
       "</style>\n",
       "<table border=\"1\" class=\"dataframe\">\n",
       "  <thead>\n",
       "    <tr style=\"text-align: right;\">\n",
       "      <th></th>\n",
       "      <th>Category</th>\n",
       "      <th>PDF Link</th>\n",
       "    </tr>\n",
       "  </thead>\n",
       "  <tbody>\n",
       "    <tr>\n",
       "      <th>0</th>\n",
       "      <td>Professional</td>\n",
       "      <td>https://www.aim-ahead.net/media/hd3fws1l/dstc-...</td>\n",
       "    </tr>\n",
       "    <tr>\n",
       "      <th>1</th>\n",
       "      <td>Professional</td>\n",
       "      <td>https://www.aim-ahead.net/media/3cvd4x4g/pair-...</td>\n",
       "    </tr>\n",
       "    <tr>\n",
       "      <th>2</th>\n",
       "      <td>Professional</td>\n",
       "      <td>https://www.aim-ahead.net/media/svfjvjr5/aihes...</td>\n",
       "    </tr>\n",
       "    <tr>\n",
       "      <th>3</th>\n",
       "      <td>Professional</td>\n",
       "      <td>https://www.aim-ahead.net/media/5q3hmb5b/webin...</td>\n",
       "    </tr>\n",
       "    <tr>\n",
       "      <th>4</th>\n",
       "      <td>Professional</td>\n",
       "      <td>https://www.aim-ahead.net/media/32ena1ts/intro...</td>\n",
       "    </tr>\n",
       "    <tr>\n",
       "      <th>...</th>\n",
       "      <td>...</td>\n",
       "      <td>...</td>\n",
       "    </tr>\n",
       "    <tr>\n",
       "      <th>1449</th>\n",
       "      <td>Professional</td>\n",
       "      <td>https://www.multiperspectivesjournal.com/uploa...</td>\n",
       "    </tr>\n",
       "    <tr>\n",
       "      <th>1450</th>\n",
       "      <td>Professional</td>\n",
       "      <td>https://www.cureus.com/articles/281861-a-revie...</td>\n",
       "    </tr>\n",
       "    <tr>\n",
       "      <th>1451</th>\n",
       "      <td>Professional</td>\n",
       "      <td>https://www.inovigate.com/media/filer_public/6...</td>\n",
       "    </tr>\n",
       "    <tr>\n",
       "      <th>1452</th>\n",
       "      <td>Professional</td>\n",
       "      <td>https://legacy.himss.org/sites/hde/files/media...</td>\n",
       "    </tr>\n",
       "    <tr>\n",
       "      <th>1453</th>\n",
       "      <td>Professional</td>\n",
       "      <td>https://centralnorthflorida.himss.org/sites/hd...</td>\n",
       "    </tr>\n",
       "  </tbody>\n",
       "</table>\n",
       "<p>1454 rows × 2 columns</p>\n",
       "</div>"
      ],
      "text/plain": [
       "          Category                                           PDF Link\n",
       "0     Professional  https://www.aim-ahead.net/media/hd3fws1l/dstc-...\n",
       "1     Professional  https://www.aim-ahead.net/media/3cvd4x4g/pair-...\n",
       "2     Professional  https://www.aim-ahead.net/media/svfjvjr5/aihes...\n",
       "3     Professional  https://www.aim-ahead.net/media/5q3hmb5b/webin...\n",
       "4     Professional  https://www.aim-ahead.net/media/32ena1ts/intro...\n",
       "...            ...                                                ...\n",
       "1449  Professional  https://www.multiperspectivesjournal.com/uploa...\n",
       "1450  Professional  https://www.cureus.com/articles/281861-a-revie...\n",
       "1451  Professional  https://www.inovigate.com/media/filer_public/6...\n",
       "1452  Professional  https://legacy.himss.org/sites/hde/files/media...\n",
       "1453  Professional  https://centralnorthflorida.himss.org/sites/hd...\n",
       "\n",
       "[1454 rows x 2 columns]"
      ]
     },
     "execution_count": 4,
     "metadata": {},
     "output_type": "execute_result"
    }
   ],
   "source": [
    "df"
   ]
  },
  {
   "cell_type": "code",
   "execution_count": 7,
   "id": "8eacc226",
   "metadata": {},
   "outputs": [],
   "source": [
    "def extract_text_from_pdf_url(url):\n",
    "    try:\n",
    "        response = requests.get(url)\n",
    "        pdf = PdfReader(BytesIO(response.content))\n",
    "        text = \"\"\n",
    "        for page in pdf.pages[:3]:\n",
    "            text += page.extract_text()\n",
    "        return text\n",
    "    except Exception as e:\n",
    "        return f\"ERROR: {e}\""
   ]
  },
  {
   "cell_type": "code",
   "execution_count": null,
   "id": "5edb9179",
   "metadata": {},
   "outputs": [],
   "source": [
    "def classify_text(text):\n",
    "    text_lower = text.lower()\n",
    "    if \"university\" in text_lower or \"institute\" in text_lower:\n",
    "        return \"academic\"\n",
    "    elif \"foundation\" in text_lower or \"non-profit\" in text_lower or \"ngo\" in text_lower:\n",
    "        return \"nonprofit\"\n",
    "    else:\n",
    "        return \"undecided\""
   ]
  },
  {
   "cell_type": "code",
   "execution_count": null,
   "id": "72681882",
   "metadata": {},
   "outputs": [
    {
     "name": "stderr",
     "output_type": "stream",
     "text": [
      "Multiple definitions in dictionary at byte 0xfbf10 for key /PageMode\n",
      "Multiple definitions in dictionary at byte 0xb406b for key /PageMode\n",
      "incorrect startxref pointer(1)\n",
      "unknown widths : \n",
      "[0, IndirectObject(9848, 0, 4474764496), 1, 2, 0, 3, IndirectObject(9849, 0, 4474764496), 4, 14, 606, 15, 16, 775, 17, IndirectObject(9850, 0, 4474764496), 18, 23, 529, 24, 25, 630, 26, 27, 639, 28, 37, 488, 38, IndirectObject(9851, 0, 4474764496), 39, 43, 637, 44, 45, 631, 46, IndirectObject(9852, 0, 4474764496), 47, 56, 267, 57, IndirectObject(9853, 0, 4474764496), 58, 59, 331, 60, 61, 547, 62, 63, 423, 64, IndirectObject(9854, 0, 4474764496), 69, 73, 659, 74, IndirectObject(9855, 0, 4474764496), 75, 83, 676, 84, 85, 681, 86, IndirectObject(9856, 0, 4474764496), 87, 88, 532, 89, IndirectObject(9857, 0, 4474764496), 90, 93, 563, 94, 99, 473, 100, 103, 495, 104, 114, 653, 115, IndirectObject(9858, 0, 4474764496), 116, 120, 906, 121, IndirectObject(9859, 0, 4474764496), 122, 126, 520, 127, 130, 478, 131, 141, 535, 142, 143, 695, 144, IndirectObject(9860, 0, 4474764496), 145, 150, 474, 151, 152, 571, 153, 154, 581, 155, 164, 445, 165, IndirectObject(9861, 0, 4474764496), 166, 172, 576, 173, IndirectObject(9862, 0, 4474764496), 174, 183, 258, 184, IndirectObject(9863, 0, 4474764496), 185, 186, 301, 187, 188, 502, 189, 190, 373, 191, IndirectObject(9864, 0, 4474764496), 196, 200, 597, 201, IndirectObject(9865, 0, 4474764496), 202, 210, 606, 211, 212, 611, 213, IndirectObject(9866, 0, 4474764496), 214, 215, 499, 216, IndirectObject(9867, 0, 4474764496), 217, 220, 518, 221, 226, 429, 227, 230, 435, 231, 241, 584, 242, IndirectObject(9868, 0, 4474764496), 243, 247, 817, 248, IndirectObject(9869, 0, 4474764496), 249, 253, 475, 254, 257, 445, 258, 268, 494, 269, 270, 775, 271, IndirectObject(9870, 0, 4474764496), 272, 277, 418, 278, IndirectObject(9871, 0, 4474764496), 280, 281, 757, 282, IndirectObject(9872, 0, 4474764496), 286, 295, 503, 296, IndirectObject(9873, 0, 4474764496), 302, 305, 554, 306, 309, 563, 310, 311, 554, 312, 315, 839, 316, 319, 848, 320, 321, 839, 322, 323, 554, 324, IndirectObject(9874, 0, 4474764496), 327, 328, 554, 329, IndirectObject(9875, 0, 4474764496), 332, 333, 636, 334, IndirectObject(9876, 0, 4474764496), 336, 340, 474, 341, 347, 537, 348, IndirectObject(9877, 0, 4474764496), 349, 358, 246, 359, IndirectObject(9878, 0, 4474764496), 361, 363, 255, 364, 366, 480, 367, 368, 246, 369, IndirectObject(9879, 0, 4474764496), 374, 378, 537, 379, IndirectObject(9880, 0, 4474764496), 381, 389, 538, 390, 391, 544, 392, IndirectObject(9881, 0, 4474764496), 393, 395, 537, 396, 399, 355, 400, 405, 399, 406, IndirectObject(9882, 0, 4474764496), 414, 423, 585, 424, IndirectObject(9883, 0, 4474764496), 426, 435, 895, 436, 446, 537, 447, IndirectObject(9884, 0, 4474764496), 448, 452, 745, 453, IndirectObject(9885, 0, 4474764496), 454, 458, 474, 459, 462, 397, 463, IndirectObject(9886, 0, 4474764496), 480, 482, 370, 483, IndirectObject(9887, 0, 4474764496), 495, 496, 0, 497, IndirectObject(9888, 0, 4474764496), 500, 501, 0, 502, IndirectObject(9889, 0, 4474764496), 505, 506, 0, 507, IndirectObject(9890, 0, 4474764496), 510, 511, 0, 512, IndirectObject(9891, 0, 4474764496), 516, 517, 0, 518, IndirectObject(9892, 0, 4474764496), 522, 523, 0, 524, IndirectObject(9893, 0, 4474764496), 527, 528, 0, 529, IndirectObject(9894, 0, 4474764496), 532, 533, 0, 534, IndirectObject(9895, 0, 4474764496), 537, 538, 0, 539, IndirectObject(9896, 0, 4474764496), 545, 546, 0, 547, IndirectObject(9897, 0, 4474764496), 549, 550, 235, 551, 552, 0, 553, IndirectObject(9898, 0, 4474764496), 559, 560, 606, 561, IndirectObject(9899, 0, 4474764496), 564, 565, 488, 566, IndirectObject(9900, 0, 4474764496), 567, 568, 631, 569, IndirectObject(9901, 0, 4474764496), 570, 572, 267, 573, IndirectObject(9902, 0, 4474764496), 578, 579, 676, 580, IndirectObject(9903, 0, 4474764496), 584, 586, 520, 587, IndirectObject(9904, 0, 4474764496), 590, 591, 681, 592, 593, 535, 594, IndirectObject(9905, 0, 4474764496), 597, 599, 445, 600, 601, 576, 602, IndirectObject(9906, 0, 4474764496), 603, 605, 258, 606, IndirectObject(9907, 0, 4474764496), 611, 612, 606, 613, IndirectObject(9908, 0, 4474764496), 615, 616, 435, 617, 619, 475, 620, IndirectObject(9909, 0, 4474764496), 623, 624, 610, 625, 626, 591, 627, IndirectObject(9910, 0, 4474764496), 631, 632, 458, 633, IndirectObject(9911, 0, 4474764496), 634, 635, 544, 636, IndirectObject(9912, 0, 4474764496), 638, 641, 286, 642, IndirectObject(9913, 0, 4474764496), 648, 649, 538, 650, IndirectObject(9914, 0, 4474764496), 655, 658, 548, 659, 660, 699, 661, IndirectObject(9915, 0, 4474764496), 663, 664, 718, 665, IndirectObject(9916, 0, 4474764496), 668, 670, 268, 671, IndirectObject(9917, 0, 4474764496), 672, 673, 258, 674, IndirectObject(9918, 0, 4474764496), 677, 678, 432, 679, IndirectObject(9919, 0, 4474764496), 681, 683, 488, 684, IndirectObject(9920, 0, 4474764496), 686, 688, 652, 689, 690, 267, 691, IndirectObject(9921, 0, 4474764496), 692, 693, 563, 694, IndirectObject(9922, 0, 4474764496), 699, 700, 676, 701, IndirectObject(9923, 0, 4474764496), 706, 707, 547, 708, IndirectObject(9924, 0, 4474764496), 719, 720, 539, 721, IndirectObject(9925, 0, 4474764496), 729, 730, 391, 731, IndirectObject(9926, 0, 4474764496), 733, 735, 445, 736, IndirectObject(9927, 0, 4474764496), 738, 740, 586, 741, 742, 258, 743, IndirectObject(9928, 0, 4474764496), 744, 745, 506, 746, IndirectObject(9929, 0, 4474764496), 756, 757, 479, 758, IndirectObject(9930, 0, 4474764496), 782, 783, 354, 784, IndirectObject(9931, 0, 4474764496), 786, 788, 503, 789, IndirectObject(9932, 0, 4474764496), 791, 793, 557, 794, 795, 246, 796, IndirectObject(9933, 0, 4474764496), 797, 798, 495, 799, IndirectObject(9934, 0, 4474764496), 811, 812, 474, 813, IndirectObject(9935, 0, 4474764496), 831, 833, 454, 834, IndirectObject(9936, 0, 4474764496), 835, 837, 326, 838, 840, 463, 841, IndirectObject(9937, 0, 4474764496), 842, 843, 301, 844, IndirectObject(9938, 0, 4474764496), 847, 848, 276, 849, IndirectObject(9939, 0, 4474764496), 851, 854, 258, 855, 858, 435, 859, IndirectObject(9940, 0, 4474764496), 861, 864, 344, 865, 868, 539, 869, IndirectObject(9941, 0, 4474764496), 875, 876, 306, 877, 878, 498, 879, 882, 905, 883, 884, 498, 885, 886, 268, 887, 888, 312, 889, 890, 325, 891, 892, 344, 893, 894, 293, 895, 896, 308, 897, 898, 312, 899, 900, 325, 901, 902, 344, 903, 906, 498, 907, IndirectObject(9942, 0, 4474764496), 909, 910, 498, 911, IndirectObject(9943, 0, 4474764496), 919, 920, 834, 921, IndirectObject(9944, 0, 4474764496), 931, 932, 498, 933, IndirectObject(9945, 0, 4474764496), 939, 940, 453, 941, IndirectObject(9946, 0, 4474764496), 956, 965, 507, 966, IndirectObject(9947, 0, 4474764496), 976, 985, 453, 986, IndirectObject(9948, 0, 4474764496), 996, 1005, 507, 1006, IndirectObject(9949, 0, 4474764496), 1019, 1020, 222, 1021, IndirectObject(9950, 0, 4474764496), 1034, 1035, 222, 1036, IndirectObject(9951, 0, 4474764496), 1039, 1040, 307, 1041, IndirectObject(9952, 0, 4474764496), 1049, 1050, 307, 1051, IndirectObject(9953, 0, 4474764496), 1064, 1065, 747, 1066, IndirectObject(9954, 0, 4474764496), 1077, 1089, 498, 1090, IndirectObject(9955, 0, 4474764496), 1102, 1105, 905, 1106, 1109, 839, 1110, IndirectObject(9956, 0, 4474764496), 1112, 1113, 231, 1114, 1130, 550, 1131, 1142, 606, 1143, 1150, 488, 1151, 1152, 267, 1153, 1159, 676, 1160, IndirectObject(9957, 0, 4474764496), 1161, 1165, 697, 1166, 1167, 653, 1168, 1173, 761, 1174, 1176, 520, 1177, 1188, 494, 1189, 1196, 503, 1197, 1198, 246, 1199, 1205, 538, 1206, 1211, 633, 1212, 1213, 537, 1214, 1219, 647, 1220, 1222, 474, 1223, IndirectObject(9958, 0, 4474764496), 1225, 1236, 535, 1237, 1244, 445, 1245, 1246, 258, 1247, 1253, 606, 1254, 1259, 693, 1260, 1261, 584, 1262, 1267, 692, 1268, 1270, 475, 1271, IndirectObject(9959, 0, 4474764496), 1272, 1279, 550, 1280, IndirectObject(9960, 0, 4474764496), 1291, 1293, 554, 1294, 1296, 839, 1297, IndirectObject(9961, 0, 4474764496), 1325, 1327, 381, 1328, 1329, 250, 1330, 1331, 0, 1332, 1338, 333, 1339, 1340, 312, 1341, IndirectObject(9962, 0, 4474764496), 1342, 1343, 333, 1344, 1351, 0, 1352, IndirectObject(9963, 0, 4474764496), 1354, 1355, 333, 1356, 1357, 450, 1358, 1363, 0, 1364, IndirectObject(9964, 0, 4474764496), 1365, 1366, 444, 1367, 1368, 500, 1369, IndirectObject(9965, 0, 4474764496), 1373, 1374, 333, 1375, IndirectObject(9966, 0, 4474764496), 1380, 1383, 920, 1384, IndirectObject(9967, 0, 4474764496), 1385, 1386, 920, 1387, IndirectObject(9968, 0, 4474764496), 1400, 1401, 394, 1402, IndirectObject(9969, 0, 4474764496), 1449, 1453, 653, 1454, 1455, 606, 1456, IndirectObject(9970, 0, 4474764496), 1460, 1461, 676, 1462, IndirectObject(9971, 0, 4474764496), 1469, 1470, 606, 1471, 1472, 488, 1473, 1474, 267, 1475, 1476, 676, 1477, 1478, 563, 1479, 1480, 653, 1481, IndirectObject(9972, 0, 4474764496), 1488, 1491, 676, 1492, IndirectObject(9973, 0, 4474764496), 1507, 1509, 561, 1510, IndirectObject(9974, 0, 4474764496), 1511, 1515, 630, 1516, 1520, 488, 1521, IndirectObject(9975, 0, 4474764496), 1523, 1527, 631, 1528, 1529, 267, 1530, 1532, 547, 1533, 1536, 423, 1537, 1539, 874, 1540, 1543, 659, 1544, 1547, 676, 1548, 1549, 532, 1550, 1553, 563, 1554, 1558, 473, 1559, 1562, 495, 1563, 1567, 653, 1568, 1569, 591, 1570, 1571, 906, 1572, 1573, 551, 1574, IndirectObject(9976, 0, 4474764496), 1575, 1577, 478, 1578, IndirectObject(9977, 0, 4474764496), 1617, 1621, 537, 1622, IndirectObject(9978, 0, 4474764496), 1623, 1624, 494, 1625, IndirectObject(9979, 0, 4474764496), 1629, 1630, 538, 1631, IndirectObject(9980, 0, 4474764496), 1636, 1637, 494, 1638, 1639, 503, 1640, 1641, 246, 1642, 1643, 538, 1644, 1645, 355, 1646, 1647, 537, 1648, IndirectObject(9981, 0, 4474764496), 1655, 1658, 538, 1659, IndirectObject(9982, 0, 4474764496), 1670, 1671, 297, 1672, IndirectObject(9983, 0, 4474764496), 1683, 1685, 537, 1686, IndirectObject(9984, 0, 4474764496), 1687, 1691, 537, 1692, 1696, 503, 1697, IndirectObject(9985, 0, 4474764496), 1699, 1703, 537, 1704, 1706, 246, 1707, 1709, 480, 1710, 1713, 246, 1714, 1716, 813, 1717, 1720, 537, 1721, 1724, 538, 1725, 1726, 537, 1727, 1730, 355, 1731, 1735, 399, 1736, 1739, 347, 1740, 1744, 537, 1745, 1746, 473, 1747, 1748, 745, 1749, 1750, 459, 1751, IndirectObject(9986, 0, 4474764496), 1752, 1754, 397, 1755, IndirectObject(9987, 0, 4474764496), 1803, 1804, 442, 1805, IndirectObject(9988, 0, 4474764496), 1815, 1819, 584, 1820, 1821, 535, 1822, IndirectObject(9989, 0, 4474764496), 1823, 1824, 576, 1825, IndirectObject(9990, 0, 4474764496), 1826, 1827, 606, 1828, IndirectObject(9991, 0, 4474764496), 1835, 1836, 535, 1837, 1838, 445, 1839, 1840, 258, 1841, 1842, 606, 1843, 1844, 518, 1845, 1846, 584, 1847, IndirectObject(9992, 0, 4474764496), 1854, 1857, 606, 1858, IndirectObject(9993, 0, 4474764496), 1879, 1881, 527, 1882, IndirectObject(9994, 0, 4474764496), 1883, 1887, 571, 1888, 1892, 445, 1893, IndirectObject(9995, 0, 4474764496), 1894, 1899, 576, 1900, 1901, 258, 1902, 1904, 502, 1905, 1908, 373, 1909, 1911, 785, 1912, 1915, 597, 1916, 1919, 606, 1920, 1921, 499, 1922, 1925, 518, 1926, 1930, 429, 1931, 1934, 435, 1935, 1939, 584, 1940, 1941, 526, 1942, 1943, 817, 1944, 1945, 502, 1946, IndirectObject(9996, 0, 4474764496), 1947, 1949, 445, 1950, IndirectObject(9997, 0, 4474764496), 1965, 1966, 562, 1967, IndirectObject(9998, 0, 4474764496), 1969, 1970, 554, 1971, IndirectObject(9999, 0, 4474764496), 1972, 1973, 573, 1974, 1975, 838, 1976, IndirectObject(10000, 0, 4474764496), 1978, 1979, 839, 1980, IndirectObject(10001, 0, 4474764496), 1984, 1991, 585, 1992, IndirectObject(10002, 0, 4474764496), 1993, 2000, 895, 2001, IndirectObject(10003, 0, 4474764496), 2002, 2004, 537, 2005, IndirectObject(10004, 0, 4474764496), 2009, 2010, 503, 2011, IndirectObject(10005, 0, 4474764496), 2012, 2013, 427, 2014, IndirectObject(10006, 0, 4474764496), 2018, 2019, 536, 2020, IndirectObject(10007, 0, 4474764496), 2022, 2024, 537, 2025, 2026, 302, 2027, IndirectObject(10008, 0, 4474764496), 2033, 2035, 813, 2036, 2037, 537, 2038, IndirectObject(10009, 0, 4474764496), 2043, 2044, 355, 2045, IndirectObject(10010, 0, 4474764496), 2046, 2047, 355, 2048, 2049, 328, 2050, 2051, 489, 2052, IndirectObject(10011, 0, 4474764496), 2057, 2058, 347, 2059, IndirectObject(10012, 0, 4474764496), 2070, 2072, 438, 2073, IndirectObject(10013, 0, 4474764496), 2083, 2084, 438, 2085, IndirectObject(10014, 0, 4474764496), 2103, 2104, 548, 2105, IndirectObject(10015, 0, 4474764496), 2115, 2116, 567, 2117, IndirectObject(10016, 0, 4474764496), 2120, 2121, 538, 2122, IndirectObject(10017, 0, 4474764496), 2123, 2124, 495, 2125, IndirectObject(10018, 0, 4474764496), 2147, 2148, 339, 2149, IndirectObject(10019, 0, 4474764496), 2169, 2170, 370, 2171, IndirectObject(10020, 0, 4474764496), 2182, 2183, 362, 2184, IndirectObject(10021, 0, 4474764496), 2270, 2271, 553, 2272, 2273, 396, 2274, IndirectObject(10022, 0, 4474764496), 2290, 2291, 373, 2292, IndirectObject(10023, 0, 4474764496), 2299, 2301, 258, 2302, 2303, 226, 2304, 2305, 325, 2306, 2307, 498, 2308, 2309, 537, 2310, IndirectObject(10024, 0, 4474764496), 2317, 2318, 278, 2319, 2320, 226, 2321, 2327, 333, 2328, IndirectObject(10025, 0, 4474764496), 2332, 2336, 383, 2337, 2340, 542, 2341, IndirectObject(10026, 0, 4474764496), 2342, 2352, 542, 2353, IndirectObject(10027, 0, 4474764496), 2354, 2358, 542, 2359, IndirectObject(10028, 0, 4474764496), 2360, 2364, 542, 2365, IndirectObject(10029, 0, 4474764496), 2366, 2374, 542, 2375, IndirectObject(10030, 0, 4474764496), 2376, 2386, 542, 2387, IndirectObject(10031, 0, 4474764496), 2388, 2392, 542, 2393, IndirectObject(10032, 0, 4474764496), 2394, 2398, 542, 2399, IndirectObject(10033, 0, 4474764496), 2400, 2408, 542, 2409, IndirectObject(10034, 0, 4474764496), 2410, 2414, 542, 2415, IndirectObject(10035, 0, 4474764496), 2416, 2420, 542, 2421, IndirectObject(10036, 0, 4474764496), 2422, 2426, 542, 2427, IndirectObject(10037, 0, 4474764496), 2428, 2432, 542, 2433, IndirectObject(10038, 0, 4474764496), 2434, 2442, 542, 2443, IndirectObject(10039, 0, 4474764496), 2444, 2448, 542, 2449, IndirectObject(10040, 0, 4474764496), 2450, 2454, 542, 2455, IndirectObject(10041, 0, 4474764496), 2456, 2460, 542, 2461, IndirectObject(10042, 0, 4474764496), 2462, 2466, 542, 2467, IndirectObject(10043, 0, 4474764496), 2468, 2476, 542, 2477, 2478, 333, 2479, IndirectObject(10044, 0, 4474764496), 2482, 2485, 333, 2486, IndirectObject(10045, 0, 4474764496), 2492, 2495, 333, 2496, 2497, 531, 2498, IndirectObject(10046, 0, 4474764496), 2499, 2500, 394, 2501, IndirectObject(10047, 0, 4474764496), 2503, 2504, 884, 2505, IndirectObject(10048, 0, 4474764496), 2510, 2513, 390, 2514, 2517, 385, 2518, 2521, 494, 2522, IndirectObject(10049, 0, 4474764496), 2527, 2529, 523, 2530, IndirectObject(10050, 0, 4474764496), 2538, 2539, 447, 2540, IndirectObject(10051, 0, 4474764496), 2560, 2563, 474, 2564, 2566, 505, 2567, IndirectObject(10052, 0, 4474764496), 2574, 2594, 606, 2595, 2603, 830, 2604, IndirectObject(10053, 0, 4474764496), 2605, 2606, 614, 2607, IndirectObject(10054, 0, 4474764496), 2608, 2609, 614, 2610, 2611, 488, 2612, IndirectObject(10055, 0, 4474764496), 2613, 2614, 757, 2615, IndirectObject(10056, 0, 4474764496), 2617, 2618, 757, 2619, IndirectObject(10057, 0, 4474764496), 2620, 2623, 631, 2624, 2625, 757, 2626, IndirectObject(10058, 0, 4474764496), 2628, 2629, 757, 2630, IndirectObject(10059, 0, 4474764496), 2631, 2632, 845, 2633, 2634, 971, 2635, IndirectObject(10060, 0, 4474764496), 2637, 2638, 971, 2639, IndirectObject(10061, 0, 4474764496), 2641, 2642, 393, 2643, IndirectObject(10062, 0, 4474764496), 2645, 2646, 393, 2647, 2651, 267, 2652, IndirectObject(10063, 0, 4474764496), 2653, 2654, 776, 2655, IndirectObject(10064, 0, 4474764496), 2656, 2657, 776, 2658, 2659, 676, 2660, IndirectObject(10065, 0, 4474764496), 2662, 2664, 696, 2665, 2668, 520, 2669, IndirectObject(10066, 0, 4474764496), 2670, 2671, 780, 2672, IndirectObject(10067, 0, 4474764496), 2674, 2675, 780, 2676, IndirectObject(10068, 0, 4474764496), 2677, 2680, 681, 2681, 2682, 780, 2683, IndirectObject(10069, 0, 4474764496), 2685, 2686, 780, 2687, IndirectObject(10070, 0, 4474764496), 2688, 2689, 908, 2690, 2691, 1008, 2692, IndirectObject(10071, 0, 4474764496), 2694, 2695, 1008, 2696, IndirectObject(10072, 0, 4474764496), 2697, 2721, 591, 2722, 2729, 458, 2730, 2752, 544, 2753, 2768, 286, 2769, 2776, 538, 2777, 2778, 530, 2779, 2794, 548, 2795, 2817, 718, 2818, 2839, 535, 2840, IndirectObject(10073, 0, 4474764496), 2841, 2848, 761, 2849, 2856, 445, 2857, 2876, 576, 2877, IndirectObject(10074, 0, 4474764496), 2878, 2885, 793, 2886, 2901, 258, 2902, 2909, 606, 2910, 2911, 499, 2912, IndirectObject(10075, 0, 4474764496), 2938, 2957, 610, 2958, IndirectObject(10076, 0, 4474764496), 2959, 2966, 828, 2967, 2975, 606, 2976, 2977, 631, 2978, 2979, 757, 2980, IndirectObject(10077, 0, 4474764496), 2982, 2983, 757, 2984, IndirectObject(10078, 0, 4474764496), 2985, 2986, 681, 2987, 2988, 780, 2989, 2990, 681, 2991, 2992, 780, 2993, IndirectObject(10079, 0, 4474764496), 2994, 3002, 830, 3003, 3004, 845, 3005, 3006, 971, 3007, IndirectObject(10080, 0, 4474764496), 3009, 3010, 971, 3011, IndirectObject(10081, 0, 4474764496), 3012, 3013, 908, 3014, 3015, 1008, 3016, IndirectObject(10082, 0, 4474764496), 3018, 3019, 1008, 3020, IndirectObject(10083, 0, 4474764496), 3021, 3022, 231, 3023, 3024, 317, 3025, IndirectObject(10084, 0, 4474764496), 3026, 3027, 395, 3028, IndirectObject(10085, 0, 4474764496), 3029, 3030, 395, 3031, IndirectObject(10086, 0, 4474764496), 3032, 3033, 494, 3034, IndirectObject(10087, 0, 4474764496), 3037, 3038, 242, 3039, IndirectObject(10088, 0, 4474764496), 3056, 3057, 520, 3058, IndirectObject(10089, 0, 4474764496), 3061, 3062, 569, 3063, 3064, 780, 3065, IndirectObject(10090, 0, 4474764496), 3073, 3074, 606, 3075, IndirectObject(10091, 0, 4474764496), 3077, 3078, 658, 3079, IndirectObject(10092, 0, 4474764496), 3082, 3083, 652, 3084, 3086, 676, 3087, IndirectObject(10093, 0, 4474764496), 3088, 3090, 547, 3091, IndirectObject(10094, 0, 4474764496), 3124, 3125, 476, 3126, IndirectObject(10095, 0, 4474764496), 3129, 3130, 503, 3131, 3132, 627, 3133, IndirectObject(10096, 0, 4474764496), 3141, 3142, 494, 3143, IndirectObject(10097, 0, 4474764496), 3144, 3146, 503, 3147, IndirectObject(10098, 0, 4474764496), 3150, 3151, 557, 3152, 3154, 538, 3155, IndirectObject(10099, 0, 4474764496), 3156, 3158, 474, 3159, IndirectObject(10100, 0, 4474764496), 3192, 3193, 475, 3194, IndirectObject(10101, 0, 4474764496), 3199, 3200, 735, 3201, IndirectObject(10102, 0, 4474764496), 3209, 3210, 535, 3211, IndirectObject(10103, 0, 4474764496), 3213, 3214, 597, 3215, IndirectObject(10104, 0, 4474764496), 3218, 3219, 586, 3220, IndirectObject(10105, 0, 4474764496), 3221, 3222, 605, 3223, IndirectObject(10106, 0, 4474764496), 3224, 3226, 479, 3227, IndirectObject(10107, 0, 4474764496), 3245, IndirectObject(10108, 0, 4474764496), 3247, IndirectObject(10109, 0, 4474764496), 3254, 3256, 0, 3257, 3258, 507, 3259, IndirectObject(10110, 0, 4474764496), 3295, 3296, 540, 3297, 3302, 500, 3303, IndirectObject(10111, 0, 4474764496), 3317, 3318, 394, 3319, 3320, 291, 3321, IndirectObject(10112, 0, 4474764496), 3336, 3337, 946, 3338, IndirectObject(10113, 0, 4474764496), 3364, 3365, 845, 3366, IndirectObject(10114, 0, 4474764496), 3370, 3371, 0, 3372, IndirectObject(10115, 0, 4474764496), 3379, 3380, 354, 3381, IndirectObject(10116, 0, 4474764496), 3383, 3391, 1328, 3392, 3396, 0, 3397, 3398, 450, 3399, 3401, 393, 3402, IndirectObject(10117, 0, 4474764496), 3403, 3404, 393, 3405, IndirectObject(10118, 0, 4474764496), 3406, 3407, 395, 3408, IndirectObject(10119, 0, 4474764496), 3415, 3416, 0, 3417, IndirectObject(10120, 0, 4474764496), 3418, 3427, 393, 3428, 3429, 0, 3430, 3431, 450, 3432, IndirectObject(10121, 0, 4474764496), 3436, 3437, 428, 3438, IndirectObject(10122, 0, 4474764496), 3439, 3440, 410, 3441, 3442, 446, 3443, IndirectObject(10123, 0, 4474764496), 3445, 3446, 0, 3447, 3449, 697, 3450, 3453, 523, 3454, 3456, 535, 3457, 3459, 756, 3460, 3462, 576, 3463, 3465, 786, 3466, 3468, 475, 3469, 3471, 610, 3472, 3474, 828, 3475, 3670, 0, 3671, IndirectObject(10124, 0, 4474764496), 3672, 3674, 505, 3675, IndirectObject(10125, 0, 4474764496), 3676, 3679, 537, 3680, IndirectObject(10126, 0, 4474764496), 3681, 3712, 1328, 3713, IndirectObject(10127, 0, 4474764496), 3714, 3716, 507, 3717, IndirectObject(10128, 0, 4474764496)]\n",
      "Multiple definitions in dictionary at byte 0x23a317 for key /PageMode\n",
      "incorrect startxref pointer(1)\n"
     ]
    }
   ],
   "source": [
    "df['text'] = df['PDF Link'].apply(extract_text_from_pdf_url)\n",
    "df['sub_category'] = df['text'].apply(classify_text)"
   ]
  },
  {
   "cell_type": "code",
   "execution_count": 13,
   "id": "01d56cb9",
   "metadata": {},
   "outputs": [
    {
     "data": {
      "text/plain": [
       "sub_category\n",
       "undecided    814\n",
       "academic     496\n",
       "nonprofit    144\n",
       "Name: count, dtype: int64"
      ]
     },
     "execution_count": 13,
     "metadata": {},
     "output_type": "execute_result"
    }
   ],
   "source": [
    "df['sub_category'].value_counts()"
   ]
  },
  {
   "cell_type": "code",
   "execution_count": null,
   "id": "b72fadc8",
   "metadata": {},
   "outputs": [
    {
     "name": "stderr",
     "output_type": "stream",
     "text": [
      "Classifying PDF documents: 100%|██████████| 1454/1454 [48:12<00:00,  1.99s/it]   \n"
     ]
    }
   ],
   "source": [
    "# keywords for classification\n",
    "academic_kw = ['university', 'college', 'professor', 'grant', 'poster', 'Ph.D.', 'R01', 'fellowship']\n",
    "nonprofit_kw = ['foundation', 'outreach', 'community', '501(c)(3)', 'underserved', 'nonprofit']\n",
    "\n",
    "# text extraction\n",
    "def extract_text_from_url(url, max_chars=2000):\n",
    "    try:\n",
    "        response = requests.get(url, timeout=10)\n",
    "        response.raise_for_status()\n",
    "        doc = fitz.open(stream=BytesIO(response.content), filetype=\"pdf\")\n",
    "        text = \"\"\n",
    "        for page in doc:\n",
    "            text += page.get_text()\n",
    "            if len(text) >= max_chars:\n",
    "                break\n",
    "        return text.lower()\n",
    "    except Exception as e:\n",
    "        return f\"__ERROR__: {e}\"\n",
    "\n",
    "# classification function\n",
    "def classify(text):\n",
    "    if \"__ERROR__\" in text:\n",
    "        return \"error\"\n",
    "    a_score = sum(k in text for k in academic_kw)\n",
    "    n_score = sum(k in text for k in nonprofit_kw)\n",
    "    if a_score > n_score:\n",
    "        return 'academic'\n",
    "    elif n_score > a_score:\n",
    "        return 'nonprofit'\n",
    "    else:\n",
    "        return 'uncertain'\n",
    "\n",
    "# time check\n",
    "new_categories = []\n",
    "for url in tqdm(df['PDF Link'], desc=\"Classifying PDF documents\"):\n",
    "    text = extract_text_from_url(url)\n",
    "    label = classify(text)\n",
    "    new_categories.append(label)\n",
    "\n",
    "df['Category'] = new_categories\n",
    "\n",
    "# Results\n",
    "df.to_csv('reclassified_pdfs.csv', index=False)"
   ]
  },
  {
   "cell_type": "code",
   "execution_count": null,
   "id": "d5d6229a",
   "metadata": {},
   "outputs": [
    {
     "data": {
      "text/plain": [
       "Category\n",
       "uncertain    640\n",
       "academic     400\n",
       "nonprofit    217\n",
       "error        197\n",
       "Name: count, dtype: int64"
      ]
     },
     "execution_count": 24,
     "metadata": {},
     "output_type": "execute_result"
    }
   ],
   "source": [
    "df1 = pd.read_csv('reclassified_pdfs.csv')\n",
    "df1['Category'].value_counts()"
   ]
  },
  {
   "cell_type": "markdown",
   "id": "1d7ac903",
   "metadata": {},
   "source": []
  },
  {
   "cell_type": "code",
   "execution_count": null,
   "id": "b5b2b7b5",
   "metadata": {},
   "outputs": [
    {
     "name": "stderr",
     "output_type": "stream",
     "text": [
      "Device set to use cpu\n",
      "100%|██████████| 1454/1454 [3:57:18<00:00,  9.79s/it]  \n"
     ]
    },
    {
     "name": "stdout",
     "output_type": "stream",
     "text": [
      "Done!\n"
     ]
    }
   ],
   "source": [
    "# CSV\n",
    "df = pd.read_csv(\"professional_only.csv\").dropna(subset=[\"PDF Link\"])\n",
    "\n",
    "# labels for zero-shot classification\n",
    "labels = [\"nonprofit\", \"academic institution\", \"professional medical organization\"]\n",
    "\n",
    "# HuggingFace model\n",
    "classifier = pipeline(\"zero-shot-classification\", model=\"facebook/bart-large-mnli\")\n",
    "\n",
    "# text extraction from PDF URLs\n",
    "def extract_text_from_pdf_url(url, max_chars=2000):\n",
    "    try:\n",
    "        response = requests.get(url, timeout=15)\n",
    "        response.raise_for_status()\n",
    "        doc = fitz.open(stream=BytesIO(response.content), filetype=\"pdf\")\n",
    "        text = \"\"\n",
    "        for page in doc:\n",
    "            text += page.get_text()\n",
    "            if len(text) >= max_chars:\n",
    "                break\n",
    "        return text.strip()\n",
    "    except Exception as e:\n",
    "        return f\"__ERROR__: {e}\"\n",
    "\n",
    "results = []\n",
    "\n",
    "for i, row in tqdm(df.iterrows(), total=len(df)):\n",
    "    url = row[\"PDF Link\"]\n",
    "    text = extract_text_from_pdf_url(url)\n",
    "\n",
    "    if \"__ERROR__\" in text or len(text.strip()) == 0:\n",
    "        label = \"error\"\n",
    "    else:\n",
    "        try:\n",
    "            result = classifier(text[:1000], candidate_labels=labels)\n",
    "            label = result[\"labels\"][0]\n",
    "        except Exception as e:\n",
    "            label = f\"error: {e}\"\n",
    "\n",
    "    results.append({\n",
    "        \"filename\": f\"doc_{i}.pdf\",\n",
    "        \"text\": text[:1000],\n",
    "        \"label\": label\n",
    "    })\n",
    "\n",
    "# results\n",
    "df_result = pd.DataFrame(results)\n",
    "df_result.to_csv(\"final_labeled_documents.csv\", index=False)\n",
    "print(\"Done!\")\n"
   ]
  },
  {
   "cell_type": "code",
   "execution_count": null,
   "id": "c2e11edb",
   "metadata": {},
   "outputs": [
    {
     "data": {
      "text/plain": [
       "label\n",
       "professional medical organization    689\n",
       "academic institution                 516\n",
       "error                                190\n",
       "nonprofit                             59\n",
       "Name: count, dtype: int64"
      ]
     },
     "execution_count": 6,
     "metadata": {},
     "output_type": "execute_result"
    }
   ],
   "source": [
    "df1 = pd.read_csv('labeled_documents.csv')\n",
    "df1['label'].value_counts()"
   ]
  },
  {
   "cell_type": "code",
   "execution_count": 7,
   "id": "0b18cd98",
   "metadata": {},
   "outputs": [
    {
     "data": {
      "text/html": [
       "<div>\n",
       "<style scoped>\n",
       "    .dataframe tbody tr th:only-of-type {\n",
       "        vertical-align: middle;\n",
       "    }\n",
       "\n",
       "    .dataframe tbody tr th {\n",
       "        vertical-align: top;\n",
       "    }\n",
       "\n",
       "    .dataframe thead th {\n",
       "        text-align: right;\n",
       "    }\n",
       "</style>\n",
       "<table border=\"1\" class=\"dataframe\">\n",
       "  <thead>\n",
       "    <tr style=\"text-align: right;\">\n",
       "      <th></th>\n",
       "      <th>filename</th>\n",
       "      <th>text</th>\n",
       "      <th>label</th>\n",
       "    </tr>\n",
       "  </thead>\n",
       "  <tbody>\n",
       "    <tr>\n",
       "      <th>0</th>\n",
       "      <td>doc_0.pdf</td>\n",
       "      <td>Data Science \\nTraining Core (DSTC) \\nResource...</td>\n",
       "      <td>academic institution</td>\n",
       "    </tr>\n",
       "    <tr>\n",
       "      <th>1</th>\n",
       "      <td>doc_1.pdf</td>\n",
       "      <td>AIM-AHEAD \\nProgram for AI Readiness (PAIR)\\nC...</td>\n",
       "      <td>professional medical organization</td>\n",
       "    </tr>\n",
       "    <tr>\n",
       "      <th>2</th>\n",
       "      <td>doc_2.pdf</td>\n",
       "      <td>2024 Al for \\nHealth Equity \\nSymposium \\nAIM-...</td>\n",
       "      <td>academic institution</td>\n",
       "    </tr>\n",
       "    <tr>\n",
       "      <th>3</th>\n",
       "      <td>doc_3.pdf</td>\n",
       "      <td>NIH STRIDES Initiative\\nCenter for Information...</td>\n",
       "      <td>professional medical organization</td>\n",
       "    </tr>\n",
       "    <tr>\n",
       "      <th>4</th>\n",
       "      <td>doc_4.pdf</td>\n",
       "      <td>Think-a-Thons\\nNIH Endorsed  \\nCommon  \\nData ...</td>\n",
       "      <td>professional medical organization</td>\n",
       "    </tr>\n",
       "    <tr>\n",
       "      <th>...</th>\n",
       "      <td>...</td>\n",
       "      <td>...</td>\n",
       "      <td>...</td>\n",
       "    </tr>\n",
       "    <tr>\n",
       "      <th>1449</th>\n",
       "      <td>doc_1449.pdf</td>\n",
       "      <td>Global Multidisciplinary Perspectives Journal ...</td>\n",
       "      <td>academic institution</td>\n",
       "    </tr>\n",
       "    <tr>\n",
       "      <th>1450</th>\n",
       "      <td>doc_1450.pdf</td>\n",
       "      <td>Received 07/24/2024 \\nReview began 08/13/2024 ...</td>\n",
       "      <td>academic institution</td>\n",
       "    </tr>\n",
       "    <tr>\n",
       "      <th>1451</th>\n",
       "      <td>doc_1451.pdf</td>\n",
       "      <td>The Use of Real-World Data for Personalized \\n...</td>\n",
       "      <td>professional medical organization</td>\n",
       "    </tr>\n",
       "    <tr>\n",
       "      <th>1452</th>\n",
       "      <td>doc_1452.pdf</td>\n",
       "      <td>PROFESSIONAL DEVELOPMENT \\nCOURSE CATALOG\\nhim...</td>\n",
       "      <td>academic institution</td>\n",
       "    </tr>\n",
       "    <tr>\n",
       "      <th>1453</th>\n",
       "      <td>doc_1453.pdf</td>\n",
       "      <td>South University, Tampa, FL\\nMay 3, 2019\\nData...</td>\n",
       "      <td>academic institution</td>\n",
       "    </tr>\n",
       "  </tbody>\n",
       "</table>\n",
       "<p>1454 rows × 3 columns</p>\n",
       "</div>"
      ],
      "text/plain": [
       "          filename                                               text  \\\n",
       "0        doc_0.pdf  Data Science \\nTraining Core (DSTC) \\nResource...   \n",
       "1        doc_1.pdf  AIM-AHEAD \\nProgram for AI Readiness (PAIR)\\nC...   \n",
       "2        doc_2.pdf  2024 Al for \\nHealth Equity \\nSymposium \\nAIM-...   \n",
       "3        doc_3.pdf  NIH STRIDES Initiative\\nCenter for Information...   \n",
       "4        doc_4.pdf  Think-a-Thons\\nNIH Endorsed  \\nCommon  \\nData ...   \n",
       "...            ...                                                ...   \n",
       "1449  doc_1449.pdf  Global Multidisciplinary Perspectives Journal ...   \n",
       "1450  doc_1450.pdf  Received 07/24/2024 \\nReview began 08/13/2024 ...   \n",
       "1451  doc_1451.pdf  The Use of Real-World Data for Personalized \\n...   \n",
       "1452  doc_1452.pdf  PROFESSIONAL DEVELOPMENT \\nCOURSE CATALOG\\nhim...   \n",
       "1453  doc_1453.pdf  South University, Tampa, FL\\nMay 3, 2019\\nData...   \n",
       "\n",
       "                                  label  \n",
       "0                  academic institution  \n",
       "1     professional medical organization  \n",
       "2                  academic institution  \n",
       "3     professional medical organization  \n",
       "4     professional medical organization  \n",
       "...                                 ...  \n",
       "1449               academic institution  \n",
       "1450               academic institution  \n",
       "1451  professional medical organization  \n",
       "1452               academic institution  \n",
       "1453               academic institution  \n",
       "\n",
       "[1454 rows x 3 columns]"
      ]
     },
     "execution_count": 7,
     "metadata": {},
     "output_type": "execute_result"
    }
   ],
   "source": [
    "df1"
   ]
  },
  {
   "cell_type": "code",
   "execution_count": null,
   "id": "7c381239",
   "metadata": {},
   "outputs": [],
   "source": [
    "# improt files\n",
    "df_links = pd.read_csv(\"professional_only.csv\").reset_index(drop=True)\n",
    "df_labels = pd.read_csv(\"labeled_documents.csv\").reset_index(drop=True)\n",
    "\n",
    "# new dataset\n",
    "df_new = pd.DataFrame({\n",
    "    \"Category\": df_labels[\"label\"],\n",
    "    \"PDF Link\": df_links[\"PDF Link\"]\n",
    "})\n",
    "\n",
    "# save to CSV\n",
    "df_new.to_csv(\"final_professional.csv\", index=False)\n"
   ]
  },
  {
   "cell_type": "code",
   "execution_count": 10,
   "id": "9cff9fdd",
   "metadata": {},
   "outputs": [
    {
     "data": {
      "text/html": [
       "<div>\n",
       "<style scoped>\n",
       "    .dataframe tbody tr th:only-of-type {\n",
       "        vertical-align: middle;\n",
       "    }\n",
       "\n",
       "    .dataframe tbody tr th {\n",
       "        vertical-align: top;\n",
       "    }\n",
       "\n",
       "    .dataframe thead th {\n",
       "        text-align: right;\n",
       "    }\n",
       "</style>\n",
       "<table border=\"1\" class=\"dataframe\">\n",
       "  <thead>\n",
       "    <tr style=\"text-align: right;\">\n",
       "      <th></th>\n",
       "      <th>Category</th>\n",
       "      <th>PDF Link</th>\n",
       "    </tr>\n",
       "  </thead>\n",
       "  <tbody>\n",
       "    <tr>\n",
       "      <th>0</th>\n",
       "      <td>academic institution</td>\n",
       "      <td>https://www.aim-ahead.net/media/hd3fws1l/dstc-...</td>\n",
       "    </tr>\n",
       "    <tr>\n",
       "      <th>1</th>\n",
       "      <td>professional medical organization</td>\n",
       "      <td>https://www.aim-ahead.net/media/3cvd4x4g/pair-...</td>\n",
       "    </tr>\n",
       "    <tr>\n",
       "      <th>2</th>\n",
       "      <td>academic institution</td>\n",
       "      <td>https://www.aim-ahead.net/media/svfjvjr5/aihes...</td>\n",
       "    </tr>\n",
       "    <tr>\n",
       "      <th>3</th>\n",
       "      <td>professional medical organization</td>\n",
       "      <td>https://www.aim-ahead.net/media/5q3hmb5b/webin...</td>\n",
       "    </tr>\n",
       "    <tr>\n",
       "      <th>4</th>\n",
       "      <td>professional medical organization</td>\n",
       "      <td>https://www.aim-ahead.net/media/32ena1ts/intro...</td>\n",
       "    </tr>\n",
       "    <tr>\n",
       "      <th>...</th>\n",
       "      <td>...</td>\n",
       "      <td>...</td>\n",
       "    </tr>\n",
       "    <tr>\n",
       "      <th>1449</th>\n",
       "      <td>academic institution</td>\n",
       "      <td>https://www.multiperspectivesjournal.com/uploa...</td>\n",
       "    </tr>\n",
       "    <tr>\n",
       "      <th>1450</th>\n",
       "      <td>academic institution</td>\n",
       "      <td>https://www.cureus.com/articles/281861-a-revie...</td>\n",
       "    </tr>\n",
       "    <tr>\n",
       "      <th>1451</th>\n",
       "      <td>professional medical organization</td>\n",
       "      <td>https://www.inovigate.com/media/filer_public/6...</td>\n",
       "    </tr>\n",
       "    <tr>\n",
       "      <th>1452</th>\n",
       "      <td>academic institution</td>\n",
       "      <td>https://legacy.himss.org/sites/hde/files/media...</td>\n",
       "    </tr>\n",
       "    <tr>\n",
       "      <th>1453</th>\n",
       "      <td>academic institution</td>\n",
       "      <td>https://centralnorthflorida.himss.org/sites/hd...</td>\n",
       "    </tr>\n",
       "  </tbody>\n",
       "</table>\n",
       "<p>1454 rows × 2 columns</p>\n",
       "</div>"
      ],
      "text/plain": [
       "                               Category  \\\n",
       "0                  academic institution   \n",
       "1     professional medical organization   \n",
       "2                  academic institution   \n",
       "3     professional medical organization   \n",
       "4     professional medical organization   \n",
       "...                                 ...   \n",
       "1449               academic institution   \n",
       "1450               academic institution   \n",
       "1451  professional medical organization   \n",
       "1452               academic institution   \n",
       "1453               academic institution   \n",
       "\n",
       "                                               PDF Link  \n",
       "0     https://www.aim-ahead.net/media/hd3fws1l/dstc-...  \n",
       "1     https://www.aim-ahead.net/media/3cvd4x4g/pair-...  \n",
       "2     https://www.aim-ahead.net/media/svfjvjr5/aihes...  \n",
       "3     https://www.aim-ahead.net/media/5q3hmb5b/webin...  \n",
       "4     https://www.aim-ahead.net/media/32ena1ts/intro...  \n",
       "...                                                 ...  \n",
       "1449  https://www.multiperspectivesjournal.com/uploa...  \n",
       "1450  https://www.cureus.com/articles/281861-a-revie...  \n",
       "1451  https://www.inovigate.com/media/filer_public/6...  \n",
       "1452  https://legacy.himss.org/sites/hde/files/media...  \n",
       "1453  https://centralnorthflorida.himss.org/sites/hd...  \n",
       "\n",
       "[1454 rows x 2 columns]"
      ]
     },
     "execution_count": 10,
     "metadata": {},
     "output_type": "execute_result"
    }
   ],
   "source": [
    "df_new"
   ]
  },
  {
   "cell_type": "code",
   "execution_count": null,
   "id": "76013449",
   "metadata": {},
   "outputs": [],
   "source": [
    "# Merge datasets\n",
    "df_final = pd.read_csv(\"FINAL_dataset.csv\")  # includes URL\n",
    "df_statefed = pd.read_csv(\"cleaned_raw_pdfs.csv\")  # includes 'PDF Link'\n",
    "df_pro = pd.read_csv(\"final_professional.csv\")     # includes 'PDF Link'\n",
    "\n",
    "df_statefed = df_statefed.rename(columns={\"PDF Link\": \"URL\"})\n",
    "df_pro = df_pro.rename(columns={\"PDF Link\": \"URL\"})\n",
    "\n",
    "df_statefed_filtered = df_statefed[df_statefed[\"Category\"].isin([\"State\", \"Federal\"])]\n",
    "\n",
    "df_labels = pd.concat([df_statefed_filtered, df_pro], ignore_index=True)\n",
    "\n",
    "df_labels = df_labels.drop_duplicates(subset=\"URL\", keep=\"first\")\n",
    "\n",
    "df_final_merged = df_final.merge(df_labels[[\"URL\", \"Category\"]], on=\"URL\", how=\"left\")\n"
   ]
  },
  {
   "cell_type": "code",
   "execution_count": 16,
   "id": "a9a09b70",
   "metadata": {},
   "outputs": [],
   "source": [
    "df_final_merged[\"Category\"] = df_final_merged[\"Category\"].str.title()\n",
    "df_final_merged.to_csv(\"FINAL_dataset_with_Category_Capitalized.csv\", index=False)"
   ]
  },
  {
   "cell_type": "code",
   "execution_count": 17,
   "id": "f62ede35",
   "metadata": {},
   "outputs": [
    {
     "data": {
      "text/plain": [
       "Category\n",
       "Professional Medical Organization    377\n",
       "State                                342\n",
       "Federal                              216\n",
       "Academic Institution                 213\n",
       "Error                                 40\n",
       "Nonprofit                             19\n",
       "Name: count, dtype: int64"
      ]
     },
     "execution_count": 17,
     "metadata": {},
     "output_type": "execute_result"
    }
   ],
   "source": [
    "df_final_merged[\"Category\"].value_counts()"
   ]
  },
  {
   "cell_type": "code",
   "execution_count": 27,
   "id": "17863108",
   "metadata": {},
   "outputs": [],
   "source": [
    "df = pd.read_csv(\"FINAL_dataset_with_Category.csv\")"
   ]
  },
  {
   "cell_type": "code",
   "execution_count": 28,
   "id": "191d8b71",
   "metadata": {},
   "outputs": [
    {
     "data": {
      "text/plain": [
       "Category\n",
       "Professional Medical Organization    394\n",
       "State                                342\n",
       "Academic Institution                 234\n",
       "Federal                              217\n",
       "Nonprofit                             19\n",
       "Error                                  1\n",
       "Name: count, dtype: int64"
      ]
     },
     "execution_count": 28,
     "metadata": {},
     "output_type": "execute_result"
    }
   ],
   "source": [
    "df['Category'].value_counts()"
   ]
  },
  {
   "cell_type": "code",
   "execution_count": null,
   "id": "9f34418c",
   "metadata": {},
   "outputs": [],
   "source": []
  }
 ],
 "metadata": {
  "kernelspec": {
   "display_name": "Python 3",
   "language": "python",
   "name": "python3"
  },
  "language_info": {
   "codemirror_mode": {
    "name": "ipython",
    "version": 3
   },
   "file_extension": ".py",
   "mimetype": "text/x-python",
   "name": "python",
   "nbconvert_exporter": "python",
   "pygments_lexer": "ipython3",
   "version": "3.11.1"
  }
 },
 "nbformat": 4,
 "nbformat_minor": 5
}
