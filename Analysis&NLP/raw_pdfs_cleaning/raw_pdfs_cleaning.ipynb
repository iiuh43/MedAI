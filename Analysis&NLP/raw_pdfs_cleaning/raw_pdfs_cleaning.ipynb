{
 "cells": [
  {
   "cell_type": "code",
   "execution_count": 23,
   "id": "269db787",
   "metadata": {},
   "outputs": [
    {
     "name": "stdout",
     "output_type": "stream",
     "text": [
      "Removed duplicates. Saved cleaned data to cleaned_raw_pdfs.csv.\n"
     ]
    }
   ],
   "source": [
    "import pandas as pd\n",
    "\n",
    "# Load the CSV file\n",
    "input_file = '/Users/winnie/Documents/GitHub/MedAI/Analysis&NLP/raw_pdfs_cleaning/ai_governance_raw_pdfs_07-03-25.csv' \n",
    "df = pd.read_csv(input_file)\n",
    "\n",
    "column_name = 'PDF Link' \n",
    "\n",
    "# Remove duplicate links (keep the first occurrence)\n",
    "df_unique = df.drop_duplicates(subset=column_name)\n",
    "\n",
    "# Save the cleaned DataFrame to a new CSV\n",
    "output_file = 'cleaned_raw_pdfs.csv'\n",
    "df_unique.to_csv(output_file, index=False)\n",
    "\n",
    "print(f\"Removed duplicates. Saved cleaned data to {output_file}.\")\n"
   ]
  },
  {
   "cell_type": "code",
   "execution_count": 24,
   "id": "91e004b1",
   "metadata": {},
   "outputs": [
    {
     "name": "stdout",
     "output_type": "stream",
     "text": [
      "Removed specified link and saved updated data to /Users/winnie/Documents/GitHub/MedAI/Analysis&NLP/raw_pdfs_cleaning/cleaned_raw_pdfs.csv.\n"
     ]
    }
   ],
   "source": [
    "import pandas as pd\n",
    "\n",
    "# Load the cleaned CSV file\n",
    "input_file = '/Users/winnie/Documents/GitHub/MedAI/Analysis&NLP/raw_pdfs_cleaning/cleaned_raw_pdfs.csv'\n",
    "df = pd.read_csv(input_file)\n",
    "\n",
    "column_name = 'PDF Link'\n",
    "\n",
    "# The specific link to remove\n",
    "link_to_remove = \"https://dbr.ri.gov/sites/g/files/xkgbur696/files/documents/divisions/insurance/financial_info/2021/Metropolitan_Property_and_Casualty_Insurance_Company_03_31_2021.pdf\"\n",
    "\n",
    "# Filter out the row containing that specific link\n",
    "df_filtered = df[df[column_name] != link_to_remove]\n",
    "\n",
    "# Save the result back to a CSV (overwrite or change filename as needed)\n",
    "output_file = '/Users/winnie/Documents/GitHub/MedAI/Analysis&NLP/raw_pdfs_cleaning/cleaned_raw_pdfs.csv'\n",
    "df_filtered.to_csv(output_file, index=False)\n",
    "\n",
    "print(f\"Removed specified link and saved updated data to {output_file}.\")\n"
   ]
  },
  {
   "cell_type": "code",
   "execution_count": 25,
   "id": "0f7979b8",
   "metadata": {},
   "outputs": [
    {
     "name": "stdout",
     "output_type": "stream",
     "text": [
      "Number of unique PDF links that are duplicated: 0\n"
     ]
    }
   ],
   "source": [
    "# Count occurrences of each link\n",
    "link_counts = df[column_name].value_counts()\n",
    "\n",
    "# Filter to get only duplicates (links appearing more than once)\n",
    "duplicate_links = link_counts[link_counts > 1]\n",
    "\n",
    "# Number of unique duplicate links\n",
    "num_unique_duplicates = len(duplicate_links)\n",
    "\n",
    "print(f\"Number of unique PDF links that are duplicated: {num_unique_duplicates}\")\n"
   ]
  },
  {
   "cell_type": "code",
   "execution_count": 26,
   "id": "b90fbe44",
   "metadata": {},
   "outputs": [],
   "source": [
    "# Count occurrences of each link\n",
    "link_counts = df[column_name].value_counts()\n",
    "\n",
    "# Filter to get only duplicates (links appearing more than once)\n",
    "duplicate_links = link_counts[link_counts > 1]\n",
    "\n",
    "# Display the duplicates and how many times each was duplicated\n",
    "for link, count in duplicate_links.items():\n",
    "    print(f\"{link} - duplicated {count - 1} times (appears {count} times)\")\n"
   ]
  },
  {
   "cell_type": "code",
   "execution_count": 28,
   "id": "14c625ec",
   "metadata": {},
   "outputs": [
    {
     "name": "stdout",
     "output_type": "stream",
     "text": [
      "Total number of PDF links in the original CSV: 7583\n",
      "Number of unique PDF links after removing duplicates: 7583\n"
     ]
    }
   ],
   "source": [
    "# Count number of links in the original uncleaned csv\n",
    "total_links = df[column_name].count()\n",
    "\n",
    "print(f\"Total number of PDF links in the original CSV: {total_links}\")\n",
    "\n",
    "\n",
    "# Count unique links\n",
    "num_unique_pdfs = unique_links.count()\n",
    "\n",
    "print(f\"Number of unique PDF links after removing duplicates: {num_unique_pdfs}\")\n"
   ]
  }
 ],
 "metadata": {
  "kernelspec": {
   "display_name": "base",
   "language": "python",
   "name": "python3"
  },
  "language_info": {
   "codemirror_mode": {
    "name": "ipython",
    "version": 3
   },
   "file_extension": ".py",
   "mimetype": "text/x-python",
   "name": "python",
   "nbconvert_exporter": "python",
   "pygments_lexer": "ipython3",
   "version": "3.10.9"
  }
 },
 "nbformat": 4,
 "nbformat_minor": 5
}
