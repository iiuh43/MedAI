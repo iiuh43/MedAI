{
 "cells": [
  {
   "cell_type": "code",
   "execution_count": 3,
   "id": "e5dd96c4",
   "metadata": {},
   "outputs": [
    {
     "name": "stdout",
     "output_type": "stream",
     "text": [
      "Failed to download from https://www.fda.gov/files/medical%20devices/published/US-FDA-Artificial-Intelligence-and-Machine-Learning-Discussion-Paper.pdf — Error: 404 Client Error: Not Found for url: https://www.fda.gov/apology_objects/abuse-detection-apology.html\n",
      "Downloaded: document_02.pdf\n",
      "Downloaded: document_03.pdf\n",
      "Downloaded: document_04.pdf\n",
      "Downloaded: document_05.pdf\n",
      "Failed to download from https://www.fda.gov/files/food/published/GRAS-Notice-000581.pdf — Error: 404 Client Error: Not Found for url: https://www.fda.gov/apology_objects/abuse-detection-apology.html\n",
      "Downloaded: document_07.pdf\n",
      "Failed to download from https://www.hhs.gov/guidance/sites/default/files/hhs-guidance-documents/FDA/Guidance-Clinical-Decision-Software.pdf — Error: 403 Client Error: Forbidden for url: https://www.hhs.gov/guidance/sites/default/files/hhs-guidance-documents/FDA/Guidance-Clinical-Decision-Software.pdf\n",
      "Failed to download from https://www.hhs.gov/sites/default/files/sharing-and-utilizing-health-data-for-ai-applications.pdf — Error: 403 Client Error: Forbidden for url: https://www.hhs.gov/sites/default/files/sharing-and-utilizing-health-data-for-ai-applications.pdf\n",
      "Failed to download from https://www.hhs.gov/sites/default/files/final-hhs-ai-strategy.pdf — Error: 403 Client Error: Forbidden for url: https://www.hhs.gov/sites/default/files/final-hhs-ai-strategy.pdf\n",
      "Failed to download from https://www.hhs.gov/sites/default/files/department-of-health-and-human-services-omb-m-21-06.pdf — Error: 403 Client Error: Forbidden for url: https://www.hhs.gov/sites/default/files/department-of-health-and-human-services-omb-m-21-06.pdf\n",
      "Failed to download from https://www.hhs.gov/sites/default/files/ohrp-exploratory-workshop-summary-report-2024.pdf — Error: 403 Client Error: Forbidden for url: https://www.hhs.gov/sites/default/files/ohrp-exploratory-workshop-summary-report-2024.pdf\n",
      "Downloaded: document_13.pdf\n",
      "Downloaded: document_14.pdf\n",
      "Failed to download from https://www.hhs.gov/sites/default/files/public-benefits-and-ai.pdf — Error: 403 Client Error: Forbidden for url: https://www.hhs.gov/sites/default/files/public-benefits-and-ai.pdf\n",
      "Failed to download from https://www.hhs.gov/sites/default/files/social-engineering-targeting-the-hph-sector-tlpclear.pdf — Error: 403 Client Error: Forbidden for url: https://www.hhs.gov/sites/default/files/social-engineering-targeting-the-hph-sector-tlpclear.pdf\n",
      "Failed to download from https://www.hhs.gov/sites/default/files/ai-and-phishing-as-a-threat-to-the-hph-white-paper-tlpclear.pdf — Error: 403 Client Error: Forbidden for url: https://www.hhs.gov/sites/default/files/ai-and-phishing-as-a-threat-to-the-hph-white-paper-tlpclear.pdf\n",
      "Downloaded: document_18.pdf\n",
      "Downloaded: document_19.pdf\n",
      "Downloaded: document_20.pdf\n",
      "Downloaded: document_21.pdf\n",
      "Downloaded: document_22.pdf\n",
      "Failed to download from https://www.healthit.gov/sites/default/files/jsr-17-task-002_aiforhealthandhealthcare12122017.pdf — Error: 403 Client Error: Forbidden for url: https://www.healthit.gov/sites/default/files/jsr-17-task-002_aiforhealthandhealthcare12122017.pdf\n",
      "Failed to download from https://www.healthit.gov/sites/default/files/page/2020-02/GettingerModeratorSlidesAIPanelsforONCAnnualMeeting12720Final.pdf — Error: 403 Client Error: Forbidden for url: https://www.healthit.gov/sites/default/files/page/2020-02/GettingerModeratorSlidesAIPanelsforONCAnnualMeeting12720Final.pdf\n",
      "Failed to download from https://www.healthit.gov/sites/default/files/page/2021-02/ONC-LEAP-in-Health-IT-SEN-FY2021.pdf — Error: 403 Client Error: Forbidden for url: https://www.healthit.gov/sites/default/files/page/2021-02/ONC-LEAP-in-Health-IT-SEN-FY2021.pdf\n",
      "Failed to download from https://www.healthit.gov/sites/default/files/2022-01/ONC_AI_in_Health_IT_Showcase.pdf — Error: 403 Client Error: Forbidden for url: https://www.healthit.gov/sites/default/files/2022-01/ONC_AI_in_Health_IT_Showcase.pdf\n",
      "Failed to download from https://www.healthit.gov/sites/default/files/facas/2024-04-11_John_Brownstein_Presentation_508.pdf — Error: 403 Client Error: Forbidden for url: https://www.healthit.gov/sites/default/files/facas/2024-04-11_John_Brownstein_Presentation_508.pdf\n",
      "Failed to download from https://www.healthit.gov/sites/default/files/facas/2024-01-18_HTI-1_Final_Rule_Overview_508.pdf — Error: 403 Client Error: Forbidden for url: https://www.healthit.gov/sites/default/files/facas/2024-01-18_HTI-1_Final_Rule_Overview_508.pdf\n",
      "Failed to download from https://www.healthit.gov/sites/default/files/facas/2024-04-11_HITAC_Transcript_508.pdf — Error: 403 Client Error: Forbidden for url: https://www.healthit.gov/sites/default/files/facas/2024-04-11_HITAC_Transcript_508.pdf\n",
      "Failed to download from https://www.healthit.gov/sites/default/files/2024-09/Natalie%20Torentinos.pdf — Error: 403 Client Error: Forbidden for url: https://www.healthit.gov/sites/default/files/2024-09/Natalie%20Torentinos.pdf\n",
      "Failed to download from https://www.healthit.gov/sites/default/files/page/2024-11/HITAC_Annual_Report_for_FY24_508.pdf  — Error: 403 Client Error: Forbidden for url: https://www.healthit.gov/sites/default/files/page/2024-11/HITAC_Annual_Report_for_FY24_508.pdf%20\n",
      "Failed to download from https://www.healthit.gov/sites/default/files/2023-05/HTI%201%20DSI%20Webinar_508.pdf  — Error: 403 Client Error: Forbidden for url: https://www.healthit.gov/sites/default/files/2023-05/HTI%201%20DSI%20Webinar_508.pdf%20\n",
      "Failed to download from https://www.healthit.gov/sites/default/files/page/2020-03/ACatalogandReviewofPublicHealthReportingBurdenintheU.S.e.pdf  — Error: 403 Client Error: Forbidden for url: https://www.healthit.gov/sites/default/files/page/2020-03/ACatalogandReviewofPublicHealthReportingBurdenintheU.S.e.pdf%20\n",
      "Failed to download from https://www.healthit.gov/sites/default/files/task_8_1_final_508.pdf  — Error: 403 Client Error: Forbidden for url: https://www.healthit.gov/sites/default/files/task_8_1_final_508.pdf%20\n",
      "Downloaded: document_35.pdf\n",
      "Downloaded: document_36.pdf\n",
      "Downloaded: document_37.pdf\n",
      "Downloaded: document_38.pdf\n",
      "Downloaded: document_39.pdf\n",
      "Downloaded: document_40.pdf\n",
      "Downloaded: document_41.pdf\n",
      "Downloaded: document_42.pdf\n",
      "Failed to download from https://seed.nih.gov/sites/default/files/2025-03/HHS_Topics_for_Budget_WaiversREV.pdf  — Error: 404 Client Error: Not Found for url: https://seed.nih.gov/sites/default/files/2025-03/HHS_Topics_for_Budget_WaiversREV.pdf%20\n",
      "Failed to download from https://www.nlm.nih.gov/ocpl/anreports/fy1998.pdf  — Error: 404 Client Error: Not Found for url: https://www.nlm.nih.gov/ocpl/anreports/fy1998.pdf%20/index.html\n",
      "Failed to download from https://pmc.ncbi.nlm.nih.gov/articles/PMC9815490/pdf/nihms-1860115.pdf — Error: 403 Client Error: Forbidden for url: https://pmc.ncbi.nlm.nih.gov/articles/PMC9815490/pdf/nihms-1860115.pdf\n"
     ]
    }
   ],
   "source": [
    "import pandas as pd\n",
    "import os\n",
    "import requests\n",
    "\n",
    "# Path to your CSV file\n",
    "csv_path = \"/Users/winnie/Documents/GitHub/MedAI/Analysis&NLP/Hand Labeling(Sheet1).csv\"\n",
    "\n",
    "# Output directory for downloaded PDFs\n",
    "output_dir = \"downloaded_45_pdfs\"\n",
    "os.makedirs(output_dir, exist_ok=True)\n",
    "\n",
    "# Load the CSV\n",
    "df = pd.read_csv(csv_path)\n",
    "\n",
    "# Identify the column containing the URLs (4th column based on your file)\n",
    "url_column = df.columns[3]\n",
    "\n",
    "# Extract the first 45 non-null URLs\n",
    "pdf_urls = df[url_column].dropna().head(45).tolist()\n",
    "\n",
    "# Download each PDF\n",
    "for idx, url in enumerate(pdf_urls, start=1):\n",
    "    try:\n",
    "        response = requests.get(url, timeout=10)\n",
    "        response.raise_for_status()\n",
    "        filename = f\"document_{idx:02}.pdf\"\n",
    "        file_path = os.path.join(output_dir, filename)\n",
    "        with open(file_path, 'wb') as f:\n",
    "            f.write(response.content)\n",
    "        print(f\"Downloaded: {filename}\")\n",
    "    except Exception as e:\n",
    "        print(f\"Failed to download from {url} — Error: {e}\")\n"
   ]
  }
 ],
 "metadata": {
  "kernelspec": {
   "display_name": "base",
   "language": "python",
   "name": "python3"
  },
  "language_info": {
   "codemirror_mode": {
    "name": "ipython",
    "version": 3
   },
   "file_extension": ".py",
   "mimetype": "text/x-python",
   "name": "python",
   "nbconvert_exporter": "python",
   "pygments_lexer": "ipython3",
   "version": "3.10.9"
  }
 },
 "nbformat": 4,
 "nbformat_minor": 5
}
