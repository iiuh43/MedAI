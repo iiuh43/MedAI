{
 "cells": [
  {
   "cell_type": "code",
   "execution_count": 1,
   "id": "aa103fb5",
   "metadata": {},
   "outputs": [
    {
     "name": "stdout",
     "output_type": "stream",
     "text": [
      "\n",
      "--- Document 1 ---\n",
      "{\n",
      "  \"URL\": \"https://oag.ca.gov/system/files/attachments/press-docs/Legal%20Advisory%20-%20Application%20of%20Existing%20CA%20Laws%20to%20Artificial%20Intelligence.pdf\",\n",
      "  \"AI Applications\": [],\n",
      "  \"Category\": \"State\",\n",
      "  \"predicted_specialty\": \"unclassified\",\n",
      "  \"Year\": 2024,\n",
      "  \"Focus Areas\": \"Bias and Fairness, Privacy and Security, Transparency and Explainability, Ethics and Consent, Safety and Risk Management, Governance Committees\",\n",
      "  \"State\": \"California\"\n",
      "}\n",
      "\n",
      "--- Document 2 ---\n",
      "{\n",
      "  \"URL\": \"https://www.gwlr.org/wp-content/uploads/2023/03/91-Geo.-Wash.-L.-Rev.-79-2023.pdf\",\n",
      "  \"AI Applications\": \"['Patient-facing AI', 'Clinical Decision Support', 'Clinical Documentation AI', 'Medical Imaging AI', 'Robotics and Surgical AI', 'Education and Training AI', 'Operational and Administrative Automation', 'Research and Clinical Trial AI']\",\n",
      "  \"Category\": \"Academic Institution\",\n",
      "  \"predicted_specialty\": \"oncology, radiology, cardiology, dermatology, infectious_diseases\",\n",
      "  \"Year\": 2023,\n",
      "  \"Focus Areas\": \"Bias and Fairness, Reliability and Performance, Privacy and Security, Transparency and Explainability, Ethics and Consent, Safety and Risk Management, Governance Committees\",\n",
      "  \"State\": \"\"\n",
      "}\n",
      "\n",
      "--- Document 3 ---\n",
      "{\n",
      "  \"URL\": \"http://large.stanford.edu/courses/2018/ph241/cheng1/docs/ai-eop-oct16.pdf\",\n",
      "  \"AI Applications\": \"['Education and Training AI', 'Clinical Decision Support', 'Research and Clinical Trial AI', 'Public Health AI']\",\n",
      "  \"Category\": \"Academic Institution\",\n",
      "  \"predicted_specialty\": \"neurology\",\n",
      "  \"Year\": 2016,\n",
      "  \"Focus Areas\": \"Bias and Fairness, Reliability and Performance, Privacy and Security, Transparency and Explainability, Ethics and Consent, Safety and Risk Management, Governance Committees\",\n",
      "  \"State\": \"\"\n",
      "}\n",
      "\n",
      "--- Document 4 ---\n",
      "{\n",
      "  \"URL\": \"https://z-inspection.org/wp-content/uploads/2021/12/Laufenberg_Werthmann_Frederike_Teresa_20_05_21_master.pdf\",\n",
      "  \"AI Applications\": \"['Medical Imaging AI', 'Patient-facing AI', 'Robotics and Surgical AI', 'Operational and Administrative Automation']\",\n",
      "  \"Category\": \"Academic Institution\",\n",
      "  \"predicted_specialty\": \"cardiology\",\n",
      "  \"Year\": 2021,\n",
      "  \"Focus Areas\": \"Bias and Fairness, Reliability and Performance, Privacy and Security, Transparency and Explainability, Ethics and Consent, Safety and Risk Management, Governance Committees\",\n",
      "  \"State\": \"\"\n",
      "}\n",
      "\n",
      "--- Document 5 ---\n",
      "{\n",
      "  \"URL\": \"https://www.uth.edu/it/review/uthealth-houston-it-review-2025.pdf\",\n",
      "  \"AI Applications\": \"['Clinical Decision Support']\",\n",
      "  \"Category\": \"Professional Medical Organization\",\n",
      "  \"predicted_specialty\": \"unclassified\",\n",
      "  \"Year\": 2025,\n",
      "  \"Focus Areas\": \"Bias and Fairness, Reliability and Performance, Privacy and Security, Transparency and Explainability, Ethics and Consent, Safety and Risk Management\",\n",
      "  \"State\": \"\"\n",
      "}\n",
      "\n",
      "✅ Saved 5 sampled documents to extract_5_rows_json_format.json\n"
     ]
    }
   ],
   "source": [
    "import json\n",
    "import random\n",
    "\n",
    "# Load JSON file\n",
    "with open(\"final_classification.json\", \"r\", encoding=\"utf-8\") as f:\n",
    "    docs = json.load(f)\n",
    "\n",
    "# Pick 5 random objects\n",
    "sampled_docs = random.sample(docs, min(5, len(docs)))\n",
    "\n",
    "# Print them\n",
    "for i, doc in enumerate(sampled_docs, start=1):\n",
    "    print(f\"\\n--- Document {i} ---\")\n",
    "    print(json.dumps(doc, indent=2, ensure_ascii=False))\n",
    "\n",
    "# Save to a new JSON file\n",
    "with open(\"extract_5_rows_json_format.json\", \"w\", encoding=\"utf-8\") as f:\n",
    "    json.dump(sampled_docs, f, indent=2, ensure_ascii=False)\n",
    "\n",
    "print(f\"\\n✅ Saved {len(sampled_docs)} sampled documents to extract_5_rows_json_format.json\")\n",
    "\n"
   ]
  }
 ],
 "metadata": {
  "kernelspec": {
   "display_name": "base",
   "language": "python",
   "name": "python3"
  },
  "language_info": {
   "codemirror_mode": {
    "name": "ipython",
    "version": 3
   },
   "file_extension": ".py",
   "mimetype": "text/x-python",
   "name": "python",
   "nbconvert_exporter": "python",
   "pygments_lexer": "ipython3",
   "version": "3.10.9"
  }
 },
 "nbformat": 4,
 "nbformat_minor": 5
}
